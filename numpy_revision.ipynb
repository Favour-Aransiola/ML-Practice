{
  "cells": [
    {
      "cell_type": "markdown",
      "metadata": {
        "id": "view-in-github",
        "colab_type": "text"
      },
      "source": [
        "<a href=\"https://colab.research.google.com/github/Favour-Aransiola/ML-Practice/blob/main/numpy_revision.ipynb\" target=\"_parent\"><img src=\"https://colab.research.google.com/assets/colab-badge.svg\" alt=\"Open In Colab\"/></a>"
      ]
    },
    {
      "cell_type": "markdown",
      "source": [
        "Numpy Practice Problems"
      ],
      "metadata": {
        "id": "XDGayA2_44Iy"
      }
    },
    {
      "cell_type": "markdown",
      "source": [
        "1. With your high school reunion fast approaching, you decide to get in shape and lose some weight . You record your weight every day for five weeks starting on a Monday.\n",
        "\n",
        "Given these daily weights, build an array with your average weight per weekend.\n"
      ],
      "metadata": {
        "id": "wQCjx9rH496k"
      }
    },
    {
      "cell_type": "code",
      "source": [
        "import numpy as np\n",
        "dailywts = 185 - np.arange(5*7)/5\n",
        "\n",
        "new_arr =dailywts.reshape(5,7)\n",
        "# print(new_arr)\n",
        "print(np.mean(new_arr[:,5:],axis=1))\n"
      ],
      "metadata": {
        "colab": {
          "base_uri": "https://localhost:8080/"
        },
        "id": "SETBtMEK48og",
        "outputId": "1b9d2e35-0208-4830-93b5-2e10ad831106"
      },
      "execution_count": null,
      "outputs": [
        {
          "output_type": "stream",
          "name": "stdout",
          "text": [
            "[183.9 182.5 181.1 179.7 178.3]\n"
          ]
        }
      ]
    },
    {
      "cell_type": "markdown",
      "source": [
        "2. After binge watching the discovery channel, you ditch your job as a trial lawyer to become a gold miner  . You decide to prospect five locations underneath a 7x7 grid of land. How much gold do you uncover at each location?"
      ],
      "metadata": {
        "id": "wWAYkicQ89dF"
      }
    },
    {
      "cell_type": "code",
      "source": [
        "np.random.seed(5555)\n",
        "gold = np.random.randint(low=0, high=10, size=(7,7))\n",
        "\n",
        "print(gold)"
      ],
      "metadata": {
        "colab": {
          "base_uri": "https://localhost:8080/"
        },
        "id": "Jbs-4hbb94ss",
        "outputId": "e17a1525-67a5-4dbe-fcb7-6f36aca23c0d"
      },
      "execution_count": null,
      "outputs": [
        {
          "output_type": "stream",
          "name": "stdout",
          "text": [
            "[[2 3 0 5 2 0 3]\n",
            " [8 8 0 7 1 5 3]\n",
            " [0 1 6 2 1 4 5]\n",
            " [4 0 8 9 9 8 7]\n",
            " [4 2 7 0 7 2 1]\n",
            " [9 8 9 2 5 0 8]\n",
            " [1 9 8 2 6 4 3]]\n"
          ]
        }
      ]
    },
    {
      "cell_type": "code",
      "source": [],
      "metadata": {
        "id": "rP1_qArmCj4o"
      },
      "execution_count": null,
      "outputs": []
    },
    {
      "cell_type": "code",
      "source": [
        "pros_loc = np.array([[1,2],\n",
        "            [4,5],\n",
        "            [1,6],\n",
        "            [2,4],\n",
        "            [5,2]])\n",
        "\n",
        "\n",
        "total_gold = 0\n",
        "for i in range(len(pros_loc)):\n",
        "  total_gold += gold[pros_loc[i][0]][pros_loc[i][1]]\n",
        "\n",
        "print(total_gold)\n"
      ],
      "metadata": {
        "colab": {
          "base_uri": "https://localhost:8080/"
        },
        "id": "seSElb18-WDY",
        "outputId": "11e615fc-dc31-451c-b425-a9e6d9ef26cb"
      },
      "execution_count": null,
      "outputs": [
        {
          "output_type": "stream",
          "name": "stdout",
          "text": [
            "15\n"
          ]
        }
      ]
    },
    {
      "cell_type": "markdown",
      "source": [
        "4. You decide to invest in a series of billboards along interstate 10 to advertise your stylish new chicken restaurant, Chic-fil-A 🐔.\n",
        "\n",
        "You buy three billboards evenly spaced starting from mile marker 17 and ending on mile marker 28.\n",
        "You buy another three billboards starting on mile marker 32 and ending on mile marker 36.\n",
        "In order, from mile marker 17 to 36, your billboards display these ads: A, B, C, C, B, A.\n",
        "Determine how far each C ad is from your restaurant which is located at mile marker 30.\n",
        "\n",
        "# ads / restaurant*:   A     B     C   *   C  B  A\n",
        "# billboards:        --|-----|-----|---|---|--|--|--\n",
        "# mile markers:       17          28  30  32    36\n"
      ],
      "metadata": {
        "id": "55j7s09YHzMM"
      }
    },
    {
      "cell_type": "code",
      "source": [
        "import numpy as np\n",
        "ads_disp = [\"A\",\"B\",\"C\",\"*\",\"C\",\"B\",\"A\"]\n",
        "miles_loc = [17,'x', 28, 30, 32,\"x\", 36 ]\n",
        "spaced_nums = np.linspace([17,32],[28,36], num=3, axis=1)\n",
        "print(spaced_nums)"
      ],
      "metadata": {
        "colab": {
          "base_uri": "https://localhost:8080/"
        },
        "id": "HPId_BqZH3Hr",
        "outputId": "4469d009-f519-461d-97ac-36f7d957c955"
      },
      "execution_count": null,
      "outputs": [
        {
          "output_type": "stream",
          "name": "stdout",
          "text": [
            "[[17.  22.5 28. ]\n",
            " [32.  34.  36. ]]\n"
          ]
        }
      ]
    },
    {
      "cell_type": "code",
      "source": [
        "c_pos = spaced_nums[[0,1],[2,0]]"
      ],
      "metadata": {
        "id": "L2teafVvKy3o"
      },
      "execution_count": null,
      "outputs": []
    },
    {
      "cell_type": "code",
      "source": [
        "distance = np.abs(c_pos -30)\n",
        "print(distance)"
      ],
      "metadata": {
        "colab": {
          "base_uri": "https://localhost:8080/",
          "height": 159
        },
        "id": "aJ6g8cOOMZd3",
        "outputId": "689e627f-c5ff-43af-b0c2-9fe4ae235152"
      },
      "execution_count": null,
      "outputs": [
        {
          "output_type": "error",
          "ename": "NameError",
          "evalue": "name 'c_pos' is not defined",
          "traceback": [
            "\u001b[0;31m---------------------------------------------------------------------------\u001b[0m",
            "\u001b[0;31mNameError\u001b[0m                                 Traceback (most recent call last)",
            "\u001b[0;32m<ipython-input-9-d150dd8abb09>\u001b[0m in \u001b[0;36m<cell line: 1>\u001b[0;34m()\u001b[0m\n\u001b[0;32m----> 1\u001b[0;31m \u001b[0mdistance\u001b[0m \u001b[0;34m=\u001b[0m \u001b[0mnp\u001b[0m\u001b[0;34m.\u001b[0m\u001b[0mabs\u001b[0m\u001b[0;34m(\u001b[0m\u001b[0mc_pos\u001b[0m \u001b[0;34m-\u001b[0m\u001b[0;36m30\u001b[0m\u001b[0;34m)\u001b[0m\u001b[0;34m\u001b[0m\u001b[0;34m\u001b[0m\u001b[0m\n\u001b[0m\u001b[1;32m      2\u001b[0m \u001b[0mprint\u001b[0m\u001b[0;34m(\u001b[0m\u001b[0mdistance\u001b[0m\u001b[0;34m)\u001b[0m\u001b[0;34m\u001b[0m\u001b[0;34m\u001b[0m\u001b[0m\n",
            "\u001b[0;31mNameError\u001b[0m: name 'c_pos' is not defined"
          ]
        }
      ]
    },
    {
      "cell_type": "code",
      "source": [
        "new_array = np.random.randint(0,7,size=(3,5))"
      ],
      "metadata": {
        "id": "RpSwONZ4Mht9"
      },
      "execution_count": null,
      "outputs": []
    },
    {
      "cell_type": "code",
      "source": [
        "mask = new_array>3\n",
        "print(mask)"
      ],
      "metadata": {
        "colab": {
          "base_uri": "https://localhost:8080/"
        },
        "id": "qsPT6s6NSsP8",
        "outputId": "61eabef5-2dd1-41c6-9397-b1427ff4f360"
      },
      "execution_count": null,
      "outputs": [
        {
          "output_type": "stream",
          "name": "stdout",
          "text": [
            "[[False  True False False False]\n",
            " [ True  True False  True  True]\n",
            " [ True False False  True  True]]\n"
          ]
        }
      ]
    },
    {
      "cell_type": "code",
      "source": [
        "new_array[mask] =15\n",
        "print(new_array)"
      ],
      "metadata": {
        "colab": {
          "base_uri": "https://localhost:8080/"
        },
        "id": "8lgYAduASuHw",
        "outputId": "5f9057f4-50df-479a-834c-680d1bd72433"
      },
      "execution_count": null,
      "outputs": [
        {
          "output_type": "stream",
          "name": "stdout",
          "text": [
            "[[ 2 15  1  0  1]\n",
            " [15 15  3 15 15]\n",
            " [15  2  0 15 15]]\n"
          ]
        }
      ]
    },
    {
      "cell_type": "markdown",
      "source": [
        "5. You’re a relationship scientist, and you’ve developed a questionnaire that determines a person’s love score - a real-valued number between 0 and 100. Your theory is that two people with similar love scores should make a good match 👩‍❤️‍💋‍👨\n",
        "\n",
        "Given the love scores for 10 different people, create a 2-d array where (i,j) gives the absolute difference of the love scores for person i and person j.\n",
        "\n"
      ],
      "metadata": {
        "id": "H5-_FWZzcnt7"
      }
    },
    {
      "cell_type": "code",
      "source": [
        "score = np.round(np.random.uniform(0,100,size=10),2)\n",
        "print(score)"
      ],
      "metadata": {
        "colab": {
          "base_uri": "https://localhost:8080/"
        },
        "id": "hhx2kOQWcxzp",
        "outputId": "5132b514-6cdf-497d-fa88-032f34758f47"
      },
      "execution_count": null,
      "outputs": [
        {
          "output_type": "stream",
          "name": "stdout",
          "text": [
            "[35.33 16.16 19.02 44.42 41.95 94.34 15.44 81.83 46.85 34.47]\n"
          ]
        }
      ]
    },
    {
      "cell_type": "code",
      "source": [
        "result = np.zeros((10,10))\n",
        "\n",
        "for i in range(len(score)):\n",
        "  for j in range(len(score)):\n",
        "    result[i][j] = np.abs(score[i]-score[j])\n",
        "\n",
        "print(result)"
      ],
      "metadata": {
        "colab": {
          "base_uri": "https://localhost:8080/"
        },
        "id": "urzy9Og4c973",
        "outputId": "ca58a071-cb46-4e93-ae4e-a42f7e302dc1"
      },
      "execution_count": null,
      "outputs": [
        {
          "output_type": "stream",
          "name": "stdout",
          "text": [
            "[[ 0.   19.17 16.31  9.09  6.62 59.01 19.89 46.5  11.52  0.86]\n",
            " [19.17  0.    2.86 28.26 25.79 78.18  0.72 65.67 30.69 18.31]\n",
            " [16.31  2.86  0.   25.4  22.93 75.32  3.58 62.81 27.83 15.45]\n",
            " [ 9.09 28.26 25.4   0.    2.47 49.92 28.98 37.41  2.43  9.95]\n",
            " [ 6.62 25.79 22.93  2.47  0.   52.39 26.51 39.88  4.9   7.48]\n",
            " [59.01 78.18 75.32 49.92 52.39  0.   78.9  12.51 47.49 59.87]\n",
            " [19.89  0.72  3.58 28.98 26.51 78.9   0.   66.39 31.41 19.03]\n",
            " [46.5  65.67 62.81 37.41 39.88 12.51 66.39  0.   34.98 47.36]\n",
            " [11.52 30.69 27.83  2.43  4.9  47.49 31.41 34.98  0.   12.38]\n",
            " [ 0.86 18.31 15.45  9.95  7.48 59.87 19.03 47.36 12.38  0.  ]]\n"
          ]
        }
      ]
    },
    {
      "cell_type": "markdown",
      "source": [
        "Alternative Approach"
      ],
      "metadata": {
        "id": "5DRHApeyf9hC"
      }
    },
    {
      "cell_type": "code",
      "source": [
        "b= score.reshape((10,1))"
      ],
      "metadata": {
        "id": "PCI80dWpeoGC"
      },
      "execution_count": null,
      "outputs": []
    },
    {
      "cell_type": "code",
      "source": [
        "print(np.abs(score-b))"
      ],
      "metadata": {
        "colab": {
          "base_uri": "https://localhost:8080/"
        },
        "id": "MFd-wKEWfbSd",
        "outputId": "3129554b-84ab-4372-9569-c449608a9296"
      },
      "execution_count": null,
      "outputs": [
        {
          "output_type": "stream",
          "name": "stdout",
          "text": [
            "[[ 0.   19.17 16.31  9.09  6.62 59.01 19.89 46.5  11.52  0.86]\n",
            " [19.17  0.    2.86 28.26 25.79 78.18  0.72 65.67 30.69 18.31]\n",
            " [16.31  2.86  0.   25.4  22.93 75.32  3.58 62.81 27.83 15.45]\n",
            " [ 9.09 28.26 25.4   0.    2.47 49.92 28.98 37.41  2.43  9.95]\n",
            " [ 6.62 25.79 22.93  2.47  0.   52.39 26.51 39.88  4.9   7.48]\n",
            " [59.01 78.18 75.32 49.92 52.39  0.   78.9  12.51 47.49 59.87]\n",
            " [19.89  0.72  3.58 28.98 26.51 78.9   0.   66.39 31.41 19.03]\n",
            " [46.5  65.67 62.81 37.41 39.88 12.51 66.39  0.   34.98 47.36]\n",
            " [11.52 30.69 27.83  2.43  4.9  47.49 31.41 34.98  0.   12.38]\n",
            " [ 0.86 18.31 15.45  9.95  7.48 59.87 19.03 47.36 12.38  0.  ]]\n"
          ]
        }
      ]
    },
    {
      "cell_type": "markdown",
      "source": [
        "6. You’re a vindictive professor 👨‍🏫 and one of your pet peeves is when students rush through their exams. To teach them a lesson, you decide to give zeros to the first three students who score less than sixty, in the order they turned in their exams.\n",
        "\n",
        "Given a 1-d array of integers, identify the first three values less than sixty and replace them with zero.\n",
        "\n"
      ],
      "metadata": {
        "id": "d45EyYwkg-FZ"
      }
    },
    {
      "cell_type": "code",
      "source": [
        "student_submission = np.round(np.random.uniform(10,100,15))\n",
        "less_than_60= student_submission<60\n",
        "print(student_submission)"
      ],
      "metadata": {
        "colab": {
          "base_uri": "https://localhost:8080/"
        },
        "id": "uw_1LA79hDxv",
        "outputId": "900909bd-b64b-4b25-9473-ef347db0b3ee"
      },
      "execution_count": null,
      "outputs": [
        {
          "output_type": "stream",
          "name": "stdout",
          "text": [
            "[98. 48. 99. 33. 86. 12. 92. 84. 45. 27. 79. 42. 32. 34. 43.]\n"
          ]
        }
      ]
    },
    {
      "cell_type": "code",
      "source": [
        "\n",
        "position =less_than_60.nonzero()\n",
        "student_submission[position[0][0:3]] =0\n",
        "print(student_submission)"
      ],
      "metadata": {
        "colab": {
          "base_uri": "https://localhost:8080/"
        },
        "id": "_haTTBwHjpTK",
        "outputId": "f1c8895e-2e36-48ad-f0c3-d09f5f2eb5e3"
      },
      "execution_count": null,
      "outputs": [
        {
          "output_type": "stream",
          "name": "stdout",
          "text": [
            "[98.  0. 99.  0. 86.  0. 92. 84. 45. 27. 79. 42. 32. 34. 43.]\n"
          ]
        }
      ]
    },
    {
      "cell_type": "markdown",
      "source": [
        "6. Eager to make your mark on the PTA, you decide the best way to hide eggs for the upcoming Easter egg hunt is to use NumPy . You represent the field as a 10x10 array of 0s.\n",
        "\n",
        "Insert 20 random normal values at random (non repeating) locations in the grid. Then you'll know how much candy to hide at each spot."
      ],
      "metadata": {
        "id": "hSWThz7omUEk"
      }
    },
    {
      "cell_type": "code",
      "source": [
        "field = np.zeros(shape = (10, 10))\n",
        "generator = np.random.default_rng(1234)\n",
        "print(field)\n"
      ],
      "metadata": {
        "colab": {
          "base_uri": "https://localhost:8080/"
        },
        "id": "Ae6IYWgikIAV",
        "outputId": "bcb5be7a-c2f2-4c65-b7e4-1f7f381caabf"
      },
      "execution_count": null,
      "outputs": [
        {
          "output_type": "stream",
          "name": "stdout",
          "text": [
            "[[0. 0. 0. 0. 0. 0. 0. 0. 0. 0.]\n",
            " [0. 0. 0. 0. 0. 0. 0. 0. 0. 0.]\n",
            " [0. 0. 0. 0. 0. 0. 0. 0. 0. 0.]\n",
            " [0. 0. 0. 0. 0. 0. 0. 0. 0. 0.]\n",
            " [0. 0. 0. 0. 0. 0. 0. 0. 0. 0.]\n",
            " [0. 0. 0. 0. 0. 0. 0. 0. 0. 0.]\n",
            " [0. 0. 0. 0. 0. 0. 0. 0. 0. 0.]\n",
            " [0. 0. 0. 0. 0. 0. 0. 0. 0. 0.]\n",
            " [0. 0. 0. 0. 0. 0. 0. 0. 0. 0.]\n",
            " [0. 0. 0. 0. 0. 0. 0. 0. 0. 0.]]\n"
          ]
        }
      ]
    },
    {
      "cell_type": "code",
      "source": [
        "numbers = np.round(generator.normal(size=20),2)"
      ],
      "metadata": {
        "id": "j2k_5zrhmde0"
      },
      "execution_count": null,
      "outputs": []
    },
    {
      "cell_type": "code",
      "source": [
        "val =generator.choice(field.size,len(numbers), replace=False)\n",
        "field.ravel()[val] = numbers"
      ],
      "metadata": {
        "id": "mY9m60dcnKjF"
      },
      "execution_count": null,
      "outputs": []
    },
    {
      "cell_type": "code",
      "source": [
        "print(field)"
      ],
      "metadata": {
        "colab": {
          "base_uri": "https://localhost:8080/"
        },
        "id": "_amPh7rZnMK9",
        "outputId": "b5b3e724-e372-494d-b1ba-f7182e07c82f"
      },
      "execution_count": null,
      "outputs": [
        {
          "output_type": "stream",
          "name": "stdout",
          "text": [
            "[[0. 0. 0. 0. 0. 0. 0. 0. 0. 0.]\n",
            " [0. 0. 0. 0. 0. 0. 0. 0. 0. 0.]\n",
            " [0. 0. 0. 0. 0. 0. 0. 0. 0. 0.]\n",
            " [0. 0. 0. 0. 0. 0. 0. 0. 0. 0.]\n",
            " [0. 0. 0. 0. 0. 0. 0. 0. 0. 0.]\n",
            " [0. 0. 0. 0. 0. 0. 0. 0. 0. 0.]\n",
            " [0. 0. 0. 0. 0. 0. 0. 0. 0. 0.]\n",
            " [0. 0. 0. 0. 0. 0. 0. 0. 0. 0.]\n",
            " [0. 0. 0. 0. 0. 0. 0. 0. 0. 0.]\n",
            " [0. 0. 0. 0. 0. 0. 0. 0. 0. 0.]]\n"
          ]
        }
      ]
    },
    {
      "cell_type": "code",
      "source": [
        "array_1 = np.random.randint(10,15,size=(2,5))\n",
        "array_2 = np.ones((2,5))\n",
        "print(array_1)\n",
        "print(np.where(array_1<13,array_1+100,array_1-100))"
      ],
      "metadata": {
        "id": "9QUCYXOyovih",
        "colab": {
          "base_uri": "https://localhost:8080/"
        },
        "outputId": "0487f655-c2b9-4d2c-ca53-02493f50296b"
      },
      "execution_count": null,
      "outputs": [
        {
          "output_type": "stream",
          "name": "stdout",
          "text": [
            "[[13 11 11 10 14]\n",
            " [11 11 10 12 12]]\n",
            "[[-87 111 111 110 -86]\n",
            " [111 111 110 112 112]]\n"
          ]
        }
      ]
    },
    {
      "cell_type": "code",
      "source": [],
      "metadata": {
        "id": "CCvpFvFSU82g",
        "colab": {
          "base_uri": "https://localhost:8080/"
        },
        "outputId": "bc2d175e-fb00-4ff0-b4aa-0d0bd67c2159"
      },
      "execution_count": null,
      "outputs": [
        {
          "output_type": "stream",
          "name": "stdout",
          "text": [
            "1\n"
          ]
        }
      ]
    },
    {
      "cell_type": "markdown",
      "source": [
        "You’re given a 10x2 array of floats where each row represents a movie. The first column represents the movie’s rating and the second column represents the director’s rating.\n",
        "Create a third column that represents the overall rating. The overall rating is equal to the movie rating if it exists, otherwise the director’s rating.\n",
        "\n"
      ],
      "metadata": {
        "id": "M8jra5B2RGcQ"
      }
    },
    {
      "cell_type": "code",
      "source": [
        "generator = np.random.default_rng(123)\n",
        "ratings = np.round(generator.uniform(low=0.0, high=10.0, size=(10, 2)))\n",
        "ratings[[1,2,7,9], [0,0,0,0]] = np.nan\n"
      ],
      "metadata": {
        "colab": {
          "base_uri": "https://localhost:8080/"
        },
        "id": "bqpIT4TWKynA",
        "outputId": "8de5cffe-2144-45ab-d0f4-b104172ff995"
      },
      "execution_count": null,
      "outputs": [
        {
          "output_type": "stream",
          "name": "stdout",
          "text": [
            "[[ 7.  1.]\n",
            " [nan  2.]\n",
            " [nan  8.]\n",
            " [ 9.  3.]\n",
            " [ 8.  9.]\n",
            " [ 5.  2.]\n",
            " [ 8.  2.]\n",
            " [nan  6.]\n",
            " [ 9.  2.]\n",
            " [nan  5.]]\n"
          ]
        }
      ]
    },
    {
      "cell_type": "code",
      "source": [
        "overall_rating = np.split(ratings,2, axis=1)\n",
        "movie_rating, director_rating = overall_rating[0],overall_rating[1]\n",
        "condensed = np.where(np.isnan(movie_rating), director_rating, movie_rating)\n",
        "\n",
        "print(np.hstack([ratings,condensed]))"
      ],
      "metadata": {
        "colab": {
          "base_uri": "https://localhost:8080/"
        },
        "id": "1NzQBY3nRVLD",
        "outputId": "e6200293-761d-4d9c-b348-6a5271c931aa"
      },
      "execution_count": null,
      "outputs": [
        {
          "output_type": "stream",
          "name": "stdout",
          "text": [
            "[[ 7.  1.  7.]\n",
            " [nan  2.  2.]\n",
            " [nan  8.  8.]\n",
            " [ 9.  3.  9.]\n",
            " [ 8.  9.  8.]\n",
            " [ 5.  2.  5.]\n",
            " [ 8.  2.  8.]\n",
            " [nan  6.  6.]\n",
            " [ 9.  2.  9.]\n",
            " [nan  5.  5.]]\n"
          ]
        }
      ]
    },
    {
      "cell_type": "code",
      "source": [],
      "metadata": {
        "id": "bc7zOCorRvJz"
      },
      "execution_count": null,
      "outputs": []
    }
  ],
  "metadata": {
    "colab": {
      "provenance": [],
      "authorship_tag": "ABX9TyM/KRAUmwBR8NOliNvJLFo2",
      "include_colab_link": true
    },
    "kernelspec": {
      "display_name": "Python 3",
      "name": "python3"
    },
    "language_info": {
      "name": "python"
    }
  },
  "nbformat": 4,
  "nbformat_minor": 0
}