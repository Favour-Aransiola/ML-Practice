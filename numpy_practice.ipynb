{
  "nbformat": 4,
  "nbformat_minor": 0,
  "metadata": {
    "colab": {
      "provenance": [],
      "toc_visible": true,
      "authorship_tag": "ABX9TyN6CRjdHXggEslX2unFFkby",
      "include_colab_link": true
    },
    "kernelspec": {
      "name": "python3",
      "display_name": "Python 3"
    },
    "language_info": {
      "name": "python"
    }
  },
  "cells": [
    {
      "cell_type": "markdown",
      "metadata": {
        "id": "view-in-github",
        "colab_type": "text"
      },
      "source": [
        "<a href=\"https://colab.research.google.com/github/Favour-Aransiola/ML-Practice/blob/main/numpy_practice.ipynb\" target=\"_parent\"><img src=\"https://colab.research.google.com/assets/colab-badge.svg\" alt=\"Open In Colab\"/></a>"
      ]
    },
    {
      "cell_type": "markdown",
      "source": [
        "Differences Between Numpy and Python List"
      ],
      "metadata": {
        "id": "XMhFMzy6CAZa"
      }
    },
    {
      "cell_type": "code",
      "source": [
        "import numpy as np\n",
        "import sys\n",
        "from io import StringIO"
      ],
      "metadata": {
        "id": "5wyZEcFVO7wI"
      },
      "execution_count": 74,
      "outputs": []
    },
    {
      "cell_type": "code",
      "source": [
        "array_one = [1,2,3,4,5]\n",
        "array_two = [6,7,8,9,10]\n",
        "array_three = []\n",
        "\n",
        "\n",
        "# To multipy the two array,\n"
      ],
      "metadata": {
        "id": "8TdSE2T3CP8-"
      },
      "execution_count": 11,
      "outputs": []
    },
    {
      "cell_type": "code",
      "source": [
        "for i in range(len(array_one)):\n",
        "  array_three.append(array_one[i]* array_two[i])"
      ],
      "metadata": {
        "id": "d9jRjLuWEmwD"
      },
      "execution_count": 6,
      "outputs": []
    },
    {
      "cell_type": "code",
      "source": [
        "print(array_three)"
      ],
      "metadata": {
        "colab": {
          "base_uri": "https://localhost:8080/"
        },
        "id": "NHcjZzov7wAz",
        "outputId": "430ed18c-b459-4f1a-bf88-b06988a643a7"
      },
      "execution_count": 7,
      "outputs": [
        {
          "output_type": "stream",
          "name": "stdout",
          "text": [
            "[6, 14, 24, 36, 50]\n"
          ]
        }
      ]
    },
    {
      "cell_type": "markdown",
      "source": [
        "Numpy Array"
      ],
      "metadata": {
        "id": "oBCcAHsW9Epb"
      }
    },
    {
      "cell_type": "code",
      "source": [
        "array_four = np.array([1,2,3,4,5])\n",
        "array_five = np.array([6,7,8,9,10])"
      ],
      "metadata": {
        "id": "0AJaHjnP8IJX"
      },
      "execution_count": 13,
      "outputs": []
    },
    {
      "cell_type": "code",
      "source": [
        "array_six = array_four*array_five\n",
        "print(array_six)"
      ],
      "metadata": {
        "colab": {
          "base_uri": "https://localhost:8080/"
        },
        "id": "dbQi5HIq9MTt",
        "outputId": "797c8bc3-369c-47bc-90d2-18919d0a57ed"
      },
      "execution_count": 14,
      "outputs": [
        {
          "output_type": "stream",
          "name": "stdout",
          "text": [
            "[ 6 14 24 36 50]\n"
          ]
        }
      ]
    },
    {
      "cell_type": "code",
      "source": [
        "arranged = np.arange(20,25,1)"
      ],
      "metadata": {
        "id": "vnHWZeIg9f8b"
      },
      "execution_count": 36,
      "outputs": []
    },
    {
      "cell_type": "code",
      "source": [
        "print(arranged)"
      ],
      "metadata": {
        "colab": {
          "base_uri": "https://localhost:8080/"
        },
        "id": "jYuy2F1V-t01",
        "outputId": "125aad73-2c8d-48e7-fad1-c62923e76b87"
      },
      "execution_count": 37,
      "outputs": [
        {
          "output_type": "stream",
          "name": "stdout",
          "text": [
            "[20 21 22 23 24]\n"
          ]
        }
      ]
    },
    {
      "cell_type": "code",
      "source": [
        "array_one = np.array([[1,2,3,4],\n",
        "                      [6,7,8,9]])\n",
        "array_two = np.array([[1,2],\n",
        "                      [2,3],\n",
        "                      [3,4],\n",
        "                      [4,5]])\n",
        "print(array_one.dot(array_two))"
      ],
      "metadata": {
        "colab": {
          "base_uri": "https://localhost:8080/"
        },
        "id": "ZdVVL-Sv-vvj",
        "outputId": "a8d371be-6596-47a1-8430-b83c1b0b7b52"
      },
      "execution_count": 55,
      "outputs": [
        {
          "output_type": "stream",
          "name": "stdout",
          "text": [
            "[[ 30  40]\n",
            " [ 80 110]]\n"
          ]
        }
      ]
    },
    {
      "cell_type": "code",
      "source": [
        "merged = np.empty(4)\n",
        "print(merged)"
      ],
      "metadata": {
        "colab": {
          "base_uri": "https://localhost:8080/"
        },
        "id": "qcYWzrdDAcQo",
        "outputId": "257471f6-5ffa-48fe-baeb-47e7972568fa"
      },
      "execution_count": 60,
      "outputs": [
        {
          "output_type": "stream",
          "name": "stdout",
          "text": [
            "[1.48e-322 1.98e-322 3.95e-322 5.43e-322]\n"
          ]
        }
      ]
    },
    {
      "cell_type": "code",
      "source": [
        "a= np.array([[1],\n",
        "             [2],\n",
        "             [3]])\n",
        "b= np.array([[8],\n",
        "             [2],\n",
        "             [1]])\n",
        "n=4\n",
        "\n",
        "mean_square_error = ((1/n)*(np.sum(np.power(a-b,2))))"
      ],
      "metadata": {
        "id": "MZHOx3OyCLpZ"
      },
      "execution_count": 68,
      "outputs": []
    },
    {
      "cell_type": "code",
      "source": [
        "np.savetxt(\"mse.csv\", b)"
      ],
      "metadata": {
        "id": "xLRQjCF_Ld7m"
      },
      "execution_count": 70,
      "outputs": []
    },
    {
      "cell_type": "code",
      "source": [
        "print(np.loadtxt(\"mse.csv\",delimiter=\",\"))"
      ],
      "metadata": {
        "colab": {
          "base_uri": "https://localhost:8080/"
        },
        "id": "KsdTT5VHM5nn",
        "outputId": "feb84b0b-b63d-4caa-ad2b-128e4f5c4183"
      },
      "execution_count": 71,
      "outputs": [
        {
          "output_type": "stream",
          "name": "stdout",
          "text": [
            "[8. 2. 1.]\n"
          ]
        }
      ]
    },
    {
      "cell_type": "code",
      "source": [
        "data = '1,2,3, 1\\n 4,5,6, xxy '\n",
        "print(np.genfromtxt(StringIO(data),delimiter=',', autostrip=True))"
      ],
      "metadata": {
        "colab": {
          "base_uri": "https://localhost:8080/"
        },
        "id": "ECaV0nVqNhty",
        "outputId": "2d8b8c9f-0349-4e9e-ef5a-f80192ddf6e5"
      },
      "execution_count": 80,
      "outputs": [
        {
          "output_type": "stream",
          "name": "stdout",
          "text": [
            "[[ 1.  2.  3.  1.]\n",
            " [ 4.  5.  6. nan]]\n"
          ]
        }
      ]
    },
    {
      "cell_type": "code",
      "source": [],
      "metadata": {
        "id": "6gsG0R_EPaOd"
      },
      "execution_count": null,
      "outputs": []
    }
  ]
}